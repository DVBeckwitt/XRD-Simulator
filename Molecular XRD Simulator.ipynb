{
 "cells": [
  {
   "cell_type": "markdown",
   "id": "4b0e5b9f",
   "metadata": {},
   "source": [
    "Bragg angle & intensity calculator\n",
    "Description: The purpose of this code is to...\n",
    "\n",
    "i) read in atomic form factors \n",
    "\n",
    "ii) read in user-inputted atomic positions\n",
    "\n",
    "iii) Calculate the structure factor\n",
    "\n",
    "iv) Calculate bragg angles and respective miller indices & intensities\n",
    "\n",
    "v) Plot and export relevant information\n",
    "\n",
    "David Beckwitt\n",
    "August 8/3/2022"
   ]
  },
  {
   "cell_type": "markdown",
   "id": "a32f7e00",
   "metadata": {},
   "source": [
    "# Initialize parameters"
   ]
  },
  {
   "cell_type": "code",
   "execution_count": 322,
   "id": "41f48767",
   "metadata": {
    "ExecuteTime": {
     "end_time": "2022-08-03T22:29:00.953884Z",
     "start_time": "2022-08-03T22:28:58.948265Z"
    }
   },
   "outputs": [
    {
     "name": "stdout",
     "output_type": "stream",
     "text": [
      "Once deleted, variables cannot be recovered. Proceed (y/[n])? y\n"
     ]
    }
   ],
   "source": [
    "%reset\n",
    "\n",
    "import numpy as np\n",
    "import sympy as sp\n",
    "import matplotlib.pyplot as plt\n",
    "\n",
    "# rounding function (dfault: n=3 decimals)\n",
    "rd = lambda x, n=3: np.round(x,n)\n",
    "π= np.pi"
   ]
  },
  {
   "cell_type": "code",
   "execution_count": 323,
   "id": "7dc5d14d",
   "metadata": {
    "ExecuteTime": {
     "end_time": "2022-08-03T22:29:00.969882Z",
     "start_time": "2022-08-03T22:29:00.956875Z"
    }
   },
   "outputs": [],
   "source": [
    "# X-Ray Wavelength (Cu-K-α)\n",
    "λ= 1.54178*10**-10"
   ]
  },
  {
   "cell_type": "markdown",
   "id": "c1800955",
   "metadata": {},
   "source": [
    "# Initialize Geometry of Molecule"
   ]
  },
  {
   "cell_type": "markdown",
   "id": "5c78e1cd",
   "metadata": {},
   "source": [
    "Molecule name:$\\text{PbI}_2$\n",
    "\n",
    "Space Group: $\\text{Hexagonal } \\text{P6}_3\\text{mc}$"
   ]
  },
  {
   "cell_type": "code",
   "execution_count": 324,
   "id": "5aa15310",
   "metadata": {
    "ExecuteTime": {
     "end_time": "2022-08-03T22:29:00.985876Z",
     "start_time": "2022-08-03T22:29:00.972878Z"
    }
   },
   "outputs": [],
   "source": [
    "# unit cell vectors \n",
    "av= 4.558*10**-10\n",
    "bv= av \n",
    "cv= 2*6.986*10**-10"
   ]
  },
  {
   "cell_type": "code",
   "execution_count": 325,
   "id": "6b597064",
   "metadata": {
    "ExecuteTime": {
     "end_time": "2022-08-03T22:29:01.001879Z",
     "start_time": "2022-08-03T22:29:00.990878Z"
    }
   },
   "outputs": [],
   "source": [
    "#unit cell angles \n",
    "α=π/2\n",
    "β=π/2\n",
    "γ=3*π/2"
   ]
  },
  {
   "cell_type": "markdown",
   "id": "d00fb5f4",
   "metadata": {
    "ExecuteTime": {
     "end_time": "2022-08-03T18:39:01.159599Z",
     "start_time": "2022-08-03T18:39:00.833343Z"
    }
   },
   "source": [
    "## Atomic Form Factors"
   ]
  },
  {
   "cell_type": "markdown",
   "id": "8025986b",
   "metadata": {},
   "source": [
    "Form Factor Eq:\n",
    "\\begin{equation}\\label{eq:}\n",
    "f= \\sum_{\\ell=1}^4 a_\\ell \\cdot e^{-b_\\ell \\big( \\frac{q}{4 \\pi} \\big)^2} + c\n",
    "\\end{equation}\n"
   ]
  },
  {
   "cell_type": "code",
   "execution_count": 326,
   "id": "5bf7bebe",
   "metadata": {
    "ExecuteTime": {
     "end_time": "2022-08-03T22:29:01.063882Z",
     "start_time": "2022-08-03T22:29:01.007891Z"
    }
   },
   "outputs": [],
   "source": [
    "a = [0]*4\n",
    "b = [0]*4\n",
    "q, x = sp.symbols('q x')\n",
    "\n",
    "# Atomic Form Factor Class\n",
    "class AFF:\n",
    "    def __init__(self, a, b,c):\n",
    "        self.a = np.array(a)\n",
    "        self.b = np.array(b)\n",
    "        self.c = np.array(c)\n",
    "\n",
    "\n",
    "# Solve equation for referenced atom\n",
    "def evalF(mol,q):\n",
    "        x = float(0)\n",
    "        for i in range(4): \n",
    "             x += mol.a[i] * sp.exp(-mol.b[i] * (q/(4*π))**2)\n",
    "        return x + mol.c"
   ]
  },
  {
   "cell_type": "code",
   "execution_count": 327,
   "id": "df0c92c1",
   "metadata": {
    "ExecuteTime": {
     "end_time": "2022-08-03T22:29:01.450881Z",
     "start_time": "2022-08-03T22:29:01.067878Z"
    }
   },
   "outputs": [
    {
     "name": "stdout",
     "output_type": "stream",
     "text": [
      "12.4734 + 7.01107*exp(-0.150798850644482*q**2) + 19.1406*exp(-0.0428886237784038*q**2) + 21.7886*exp(-0.00846411837852179*q**2) + 19.5682*exp(-0.00309272147692474*q**2)\n"
     ]
    },
    {
     "data": {
      "image/png": "[encoded data removed]",
      "text/plain": [
       "<Figure size 432x288 with 1 Axes>"
      ]
     },
     "metadata": {
      "needs_background": "light"
     },
     "output_type": "display_data"
    }
   ],
   "source": [
    "# Lead 2+\n",
    "a[0] = 21.7886\n",
    "a[1] = 19.5682\n",
    "a[2] = 19.1406\n",
    "a[3] = 7.01107\n",
    "\n",
    "b[0] = 1.3366\n",
    "b[1] = 0.488383\n",
    "b[2] = 6.7727\n",
    "b[3] = 23.8132\n",
    "\n",
    "\n",
    "c = 12.4734\n",
    "\n",
    "Pb= AFF(a,b,c)\n",
    "\n",
    "Pbsol = evalF(Pb,q)\n",
    "print(Pbsol)\n",
    "\n",
    "# Plot with sympy. plot2 is an invisible point at the origin to keep the plot correct.\n",
    "PbPlot = sp.plotting.plot(Pbsol, (q,0,25),nb_of_points=1000, show=False, title= (\"Pb2+ AFF vs q\"))\n",
    "plot2 = sp.plotting.plot(0,(x,0,1/1000), line_color='none', show=False)\n",
    "\n",
    "PbPlot.append(plot2[0])\n",
    "PbPlot.show()"
   ]
  },
  {
   "cell_type": "code",
   "execution_count": 328,
   "id": "4649350e",
   "metadata": {
    "ExecuteTime": {
     "end_time": "2022-08-03T22:29:01.794879Z",
     "start_time": "2022-08-03T22:29:01.465877Z"
    }
   },
   "outputs": [
    {
     "name": "stdout",
     "output_type": "stream",
     "text": [
      "4.0714 + 2.8868*exp(-0.537828040951075*q**2) + 7.8069*exp(-0.186974946006581*q**2) + 20.2332*exp(-0.027596724137184*q**2) + 18.997*exp(-0.00241587697247199*q**2)\n"
     ]
    },
    {
     "data": {
      "image/png": "[encoded data removed]",
      "text/plain": [
       "<Figure size 432x288 with 1 Axes>"
      ]
     },
     "metadata": {
      "needs_background": "light"
     },
     "output_type": "display_data"
    }
   ],
   "source": [
    "#Iodine -1\n",
    "a[0] = 20.2332;\n",
    "a[1] = 18.997;\n",
    "a[2] = 7.8069;\n",
    "a[3] = 2.8868;\n",
    "\n",
    "b[0] = 4.3579;\n",
    "b[1] = 0.3815;\n",
    "b[2] = 29.5259;\n",
    "b[3] = 84.9304;\n",
    "\n",
    "\n",
    "c = 4.0714;\n",
    "\n",
    "I=AFF(a,b,c)\n",
    "\n",
    "Isol = evalF(I,q)\n",
    "print(Isol)\n",
    "\n",
    "IPlot = sp.plotting.plot(Isol, (q,0,25),nb_of_points=1000,show=False, title= (\"I-1 AFF vs q\"))\n",
    "\n",
    "IPlot.append(plot2[0])\n",
    "IPlot.show()"
   ]
  },
  {
   "cell_type": "markdown",
   "id": "a0df4539",
   "metadata": {
    "ExecuteTime": {
     "end_time": "2022-08-03T19:10:55.391953Z",
     "start_time": "2022-08-03T19:10:55.381953Z"
    }
   },
   "source": [
    "## Reciprocal Vectors"
   ]
  },
  {
   "cell_type": "markdown",
   "id": "421e8c85",
   "metadata": {},
   "source": [
    "Hexagonal structure has reciprocal vectors of\n",
    "\\begin{equation}\n",
    "q = \\sqrt{\\frac{4}{3} \\frac{h^2 + h k+ k^2}{\\alpha^2} + \\frac{\\ell^2}{\\beta^2}}\n",
    "\\end{equation}\n",
    "\n"
   ]
  },
  {
   "cell_type": "code",
   "execution_count": 332,
   "id": "e4810266",
   "metadata": {
    "ExecuteTime": {
     "end_time": "2022-08-03T22:38:51.334979Z",
     "start_time": "2022-08-03T22:38:51.319982Z"
    }
   },
   "outputs": [],
   "source": [
    "# For hexagonal\n",
    "h, k, ℓ = sp.symbols('h k ℓ')\n",
    "\n",
    "def RecVec(h, k, ℓ,α,β):\n",
    "    return sp.sqrt(4/3 * (h**2 + h*k + k**2)/α**2+ (ℓ/β)**2)"
   ]
  },
  {
   "cell_type": "markdown",
   "id": "5bb57987",
   "metadata": {},
   "source": [
    "Tomorrow I'll look to solve theta as a function of q in ascending miller index sums"
   ]
  }
 ],
 "metadata": {
  "hide_input": false,
  "kernelspec": {
   "display_name": "Python 3 (ipykernel)",
   "language": "python",
   "name": "python3"
  },
  "language_info": {
   "codemirror_mode": {
    "name": "ipython",
    "version": 3
   },
   "file_extension": ".py",
   "mimetype": "text/x-python",
   "name": "python",
   "nbconvert_exporter": "python",
   "pygments_lexer": "ipython3",
   "version": "3.9.12"
  },
  "latex_envs": {
   "LaTeX_envs_menu_present": true,
   "autoclose": false,
   "autocomplete": true,
   "bibliofile": "biblio.bib",
   "cite_by": "apalike",
   "current_citInitial": 1,
   "eqLabelWithNumbers": true,
   "eqNumInitial": 1,
   "hotkeys": {
    "equation": "Ctrl-E",
    "itemize": "Ctrl-I"
   },
   "labels_anchors": false,
   "latex_user_defs": false,
   "report_style_numbering": false,
   "user_envs_cfg": false
  },
  "toc": {
   "base_numbering": 1,
   "nav_menu": {},
   "number_sections": true,
   "sideBar": true,
   "skip_h1_title": false,
   "title_cell": "Table of Contents",
   "title_sidebar": "Contents",
   "toc_cell": false,
   "toc_position": {},
   "toc_section_display": true,
   "toc_window_display": true
  },
  "varInspector": {
   "cols": {
    "lenName": 16,
    "lenType": 16,
    "lenVar": 40
   },
   "kernels_config": {
    "python": {
     "delete_cmd_postfix": "",
     "delete_cmd_prefix": "del ",
     "library": "var_list.py",
     "varRefreshCmd": "print(var_dic_list())"
    },
    "r": {
     "delete_cmd_postfix": ") ",
     "delete_cmd_prefix": "rm(",
     "library": "var_list.r",
     "varRefreshCmd": "cat(var_dic_list()) "
    }
   },
   "oldHeight": 468.844,
   "position": {
    "height": "469.844px",
    "left": "1545px",
    "right": "20px",
    "top": "120px",
    "width": "377px"
   },
   "types_to_exclude": [
    "module",
    "function",
    "builtin_function_or_method",
    "instance",
    "_Feature"
   ],
   "varInspector_section_display": "block",
   "window_display": false
  }
 },
 "nbformat": 4,
 "nbformat_minor": 5
}
